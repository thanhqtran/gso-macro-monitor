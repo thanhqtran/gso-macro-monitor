{
 "cells": [
  {
   "cell_type": "code",
   "execution_count": 89,
   "metadata": {},
   "outputs": [
    {
     "data": {
      "text/plain": [
       "{'National Accounts and State budget': {'Key indicators on National Accounts by Items and Year': 'https://pxweb.gso.gov.vn:443/sq/1cffd114-e0af-46da-a23d-b5e2ec47309b',\n",
       "  'Gross domestic product at current prices by economic sector by Year Items and Economic sector': 'https://pxweb.gso.gov.vn:443/sq/762aea43-577b-4d66-843a-e0d9528f616a',\n",
       "  'Gross domestic product at constant 2010 prices by economic sector by Year Indicators and Economic sector': 'https://pxweb.gso.gov.vn:443/sq/b3d69342-9f6c-49bd-8701-0fc0d552dccf',\n",
       "  'Gross domestic product at current prices by types of ownership and by kinds of economic activity': 'https://pxweb.gso.gov.vn:443/sq/46651137-db47-4821-86da-f005919c2fc3',\n",
       "  'Gross domestic product at constant 2010 prices by types of ownership and by kinds of economic activity (Previous year = 100) by By types Iterms and Year': 'https://pxweb.gso.gov.vn:443/sq/a9872011-900a-4b86-b44a-5813d6a93a74',\n",
       "  'Gross domestic product by expenditure category at current prices by Items Expenditure category and Year': 'https://pxweb.gso.gov.vn:443/sq/6e997eea-8753-4099-b5a5-a12513635f18',\n",
       "  'Gross domestic product by expenditure category at constant 2010 prices by Items Expenditure category and Year': 'https://pxweb.gso.gov.vn:443/sq/1c71c96b-f856-4acf-a45d-31223f070fc5',\n",
       "  'Gross national income at current prices by Year and Items': 'https://pxweb.gso.gov.vn:443/sq/8df63da5-f034-470e-98ed-37bc8d1e70cc',\n",
       "  'State budget revenue (*) by Indicators State budget revenue and Year': 'https://pxweb.gso.gov.vn:443/sq/af873470-228c-4eb7-8c82-87d5c01a7679',\n",
       "  'State budget expenditure (*) by Indicators State budget expenditure and Year': 'https://pxweb.gso.gov.vn:443/sq/20cbbdab-2096-4ce4-bbb3-1c560a35b4b7',\n",
       "  'Total liquidity deposits as of annual 31/12 by Classify Total liquidity deposits and Year': 'https://pxweb.gso.gov.vn:443/sq/2489a59d-23c3-4217-b5c0-338a5a0212b1',\n",
       "  'Credit outstanding of credit institutions, branches of foreign bank as of annual 31/12(*) by Classify Credit outstanding Term and Year': 'https://pxweb.gso.gov.vn:443/sq/a2cb8b14-42db-4837-94a9-33266122cc35',\n",
       "  'Interest rate by Average interest rate and Year': 'https://pxweb.gso.gov.vn:443/sq/35b0784b-f734-4267-b9e9-9249d2678d23',\n",
       "  'Social insurance health insurance and unemployment insurance by Indicators and Year': 'https://pxweb.gso.gov.vn:443/sq/8d02b876-a7a1-4290-857a-0afeda06e077'},\n",
       " 'url': 'https://pxweb.gso.gov.vn/pxweb/en/National%20Accounts%20and%20State%20budget/National%20Accounts%20and%20State%20budget/?tablelist=true&rxid=6f2119fa-0ffc-4d4d-946c-e958bb00ae67'}"
      ]
     },
     "execution_count": 89,
     "metadata": {},
     "output_type": "execute_result"
    }
   ],
   "source": [
    "import pandas as pd \n",
    "import numpy as np\n",
    "import matplotlib.pyplot as plt\n",
    "import json\n",
    "import urllib.request\n",
    "import os\n",
    "import numpy as np\n",
    "import matplotlib.pyplot as plt\n",
    "import imageio\n",
    "\n",
    "# database \n",
    "url = 'https://raw.githubusercontent.com/thanhqtran/gso-macro-monitor/main/gso_database.json'\n",
    "response = urllib.request.urlopen(url)\n",
    "# convert database to python dict \n",
    "database = json.loads(response.read().decode(\"utf-8\"))\n",
    "db = pd.DataFrame(database)\n",
    "# extract csv link to the data \n",
    "na_database = db.iloc[1][0]\n",
    "na_database"
   ]
  },
  {
   "cell_type": "code",
   "execution_count": 77,
   "metadata": {},
   "outputs": [],
   "source": [
    "# na_database hierarchy\n",
    "parent = 'National Accounts and State budget'\n",
    "query = 'Gross domestic product at current prices by economic sector by Year Items and Economic sector'\n",
    "# use get method twice to extract desired variable\n",
    "query_url = na_database.get(parent, {}).get(query, {})"
   ]
  },
  {
   "cell_type": "code",
   "execution_count": 87,
   "metadata": {},
   "outputs": [],
   "source": [
    "# extract csv link to the data\n",
    "data = pd.read_csv(query_url, skiprows=1)\n",
    "df = pd.DataFrame(data)\n",
    "df.replace(\"..\", 0, inplace=True)\n",
    "df['Year'] = [year for year in np.arange(1986, 2021)]\n",
    "# GDP in constant price\n",
    "df_gdp = df.iloc[:,[0,2,3,4,5]]\n",
    "usdvnd = 23125 \n",
    "df_gdp.iloc[:,1:] = df_gdp.iloc[:,1:].astype(float)/usdvnd\n",
    "df_gdp.columns = ['Year', 'Agriculture', 'Industrial', 'Service', 'Tax Subsidy']\n",
    "x = df_gdp['Year']\n",
    "y1 = df_gdp['Agriculture']\n",
    "y2 = df_gdp['Industrial']\n",
    "y3 = df_gdp['Service']\n",
    "y4 = df_gdp['Tax Subsidy']\n",
    "fig, ax = plt.subplots(figsize=(10,7))\n",
    "plt.stackplot(x, y1, y2, y3, y4, labels=['Agriculture', 'Industrial', 'Service', 'Tax Subsidy'])\n",
    "plt.legend(loc='upper left')\n",
    "plt.title('Gross Domestic Product')\n",
    "plt.xlabel('Year')\n",
    "plt.ylabel('Billion USD (2020)')\n",
    "plt.ticklabel_format(style='plain', axis='y')"
   ]
  },
  {
   "cell_type": "code",
   "execution_count": 90,
   "metadata": {},
   "outputs": [
    {
     "name": "stderr",
     "output_type": "stream",
     "text": [
      "/Users/thanhqtran/opt/anaconda3/lib/python3.9/site-packages/pandas/core/indexing.py:1851: SettingWithCopyWarning: \n",
      "A value is trying to be set on a copy of a slice from a DataFrame.\n",
      "Try using .loc[row_indexer,col_indexer] = value instead\n",
      "\n",
      "See the caveats in the documentation: https://pandas.pydata.org/pandas-docs/stable/user_guide/indexing.html#returning-a-view-versus-a-copy\n",
      "  self._setitem_single_column(loc, val, pi)\n"
     ]
    },
    {
     "data": {
      "text/plain": [
       "<AxesSubplot:xlabel='Year'>"
      ]
     },
     "execution_count": 90,
     "metadata": {},
     "output_type": "execute_result"
    },
    {
     "data": {
      "image/png": "[encoded data removed]",
      "text/plain": [
       "<Figure size 576x360 with 1 Axes>"
      ]
     },
     "metadata": {
      "needs_background": "light"
     },
     "output_type": "display_data"
    }
   ],
   "source": [
    "#stacked area chart\n",
    "df_structure = df.iloc[:,[0,7,8,9,10]]\n",
    "df_structure.iloc[:,1:] = df_structure.iloc[:,1:].astype(float)\n",
    "df_structure.columns = ['Year', 'Agriculture', 'Industrial', 'Service', 'Tax Subsidy']\n",
    "df_structure.plot.area(x='Year', y=['Agriculture', 'Industrial', 'Service', 'Tax Subsidy'], stacked=True, figsize=(8,5))"
   ]
  }
 ],
 "metadata": {
  "interpreter": {
   "hash": "3b13c1a998851db6578ae52434cc6a343c2af6322cc31dc974d0be6e7507004e"
  },
  "kernelspec": {
   "display_name": "Python 3.9.7 ('base')",
   "language": "python",
   "name": "python3"
  },
  "language_info": {
   "codemirror_mode": {
    "name": "ipython",
    "version": 3
   },
   "file_extension": ".py",
   "mimetype": "text/x-python",
   "name": "python",
   "nbconvert_exporter": "python",
   "pygments_lexer": "ipython3",
   "version": "3.9.7"
  },
  "orig_nbformat": 4
 },
 "nbformat": 4,
 "nbformat_minor": 2
}
